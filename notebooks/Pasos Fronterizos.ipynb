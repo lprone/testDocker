{
 "cells": [
  {
   "cell_type": "code",
   "execution_count": 1,
   "metadata": {},
   "outputs": [],
   "source": [
    "import pandas as pd\n",
    "import webbrowser"
   ]
  },
  {
   "cell_type": "code",
   "execution_count": null,
   "metadata": {},
   "outputs": [],
   "source": []
  },
  {
   "cell_type": "code",
   "execution_count": 2,
   "metadata": {},
   "outputs": [
    {
     "data": {
      "text/html": [
       "<div>\n",
       "<style scoped>\n",
       "    .dataframe tbody tr th:only-of-type {\n",
       "        vertical-align: middle;\n",
       "    }\n",
       "\n",
       "    .dataframe tbody tr th {\n",
       "        vertical-align: top;\n",
       "    }\n",
       "\n",
       "    .dataframe thead th {\n",
       "        text-align: right;\n",
       "    }\n",
       "</style>\n",
       "<table border=\"1\" class=\"dataframe\">\n",
       "  <thead>\n",
       "    <tr style=\"text-align: right;\">\n",
       "      <th></th>\n",
       "      <th>key</th>\n",
       "      <th>location</th>\n",
       "      <th>name</th>\n",
       "    </tr>\n",
       "  </thead>\n",
       "  <tbody>\n",
       "    <tr>\n",
       "      <th>0</th>\n",
       "      <td>SAN SEBASTIAN  ( USHUAIA )</td>\n",
       "      <td>[-54.832543, -68.3712885]</td>\n",
       "      <td>SAN SEBASTIAN  ( USHUAIA )</td>\n",
       "    </tr>\n",
       "    <tr>\n",
       "      <th>1</th>\n",
       "      <td>AERO PUBLICO DE USHUAIA</td>\n",
       "      <td>[-54.8249379, -68.3258626]</td>\n",
       "      <td>AERO PUBLICO DE USHUAIA</td>\n",
       "    </tr>\n",
       "    <tr>\n",
       "      <th>2</th>\n",
       "      <td>PUERTO USHUAIA (PREFECTURA)</td>\n",
       "      <td>[-54.8096728, -68.3114748]</td>\n",
       "      <td>PUERTO USHUAIA (PREFECTURA)</td>\n",
       "    </tr>\n",
       "    <tr>\n",
       "      <th>3</th>\n",
       "      <td>PUERTO USHUAIA</td>\n",
       "      <td>[-54.8019121, -68.3029511]</td>\n",
       "      <td>PUERTO USHUAIA</td>\n",
       "    </tr>\n",
       "    <tr>\n",
       "      <th>4</th>\n",
       "      <td>PASO LAURITA CASAS VIEJAS</td>\n",
       "      <td>[-51.6896359, -72.2993574]</td>\n",
       "      <td>PASO LAURITA CASAS VIEJAS</td>\n",
       "    </tr>\n",
       "  </tbody>\n",
       "</table>\n",
       "</div>"
      ],
      "text/plain": [
       "                           key                    location  \\\n",
       "0   SAN SEBASTIAN  ( USHUAIA )   [-54.832543, -68.3712885]   \n",
       "1      AERO PUBLICO DE USHUAIA  [-54.8249379, -68.3258626]   \n",
       "2  PUERTO USHUAIA (PREFECTURA)  [-54.8096728, -68.3114748]   \n",
       "3               PUERTO USHUAIA  [-54.8019121, -68.3029511]   \n",
       "4    PASO LAURITA CASAS VIEJAS  [-51.6896359, -72.2993574]   \n",
       "\n",
       "                          name  \n",
       "0   SAN SEBASTIAN  ( USHUAIA )  \n",
       "1      AERO PUBLICO DE USHUAIA  \n",
       "2  PUERTO USHUAIA (PREFECTURA)  \n",
       "3               PUERTO USHUAIA  \n",
       "4    PASO LAURITA CASAS VIEJAS  "
      ]
     },
     "execution_count": 2,
     "metadata": {},
     "output_type": "execute_result"
    }
   ],
   "source": [
    "dat = pd.read_json(\"pasos.json\",)\n",
    "dat.head(5)"
   ]
  },
  {
   "cell_type": "code",
   "execution_count": null,
   "metadata": {},
   "outputs": [],
   "source": []
  },
  {
   "cell_type": "code",
   "execution_count": 3,
   "metadata": {},
   "outputs": [],
   "source": [
    "class Map(object):\n",
    "    def __init__(self):\n",
    "        self._points = []\n",
    "    def add_point(self, coordinates):\n",
    "        self._points.append(coordinates)\n",
    "    def __str__(self):\n",
    "        centerLat = sum(( x[0] for x in self._points )) / len(self._points)\n",
    "        centerLon = sum(( x[1] for x in self._points )) / len(self._points)\n",
    "        markersCode = \"\\n\".join(\n",
    "            [ \"\"\"new google.maps.Marker({{\n",
    "                position: new google.maps.LatLng({lat}, {lon}),\n",
    "                map: map\n",
    "                }});\"\"\".format(lat=x[0], lon=x[1]) for x in self._points\n",
    "            ])\n",
    "        return \"\"\"\n",
    "            <script src=\"https://maps.googleapis.com/maps/api/js?v=4.exp&sensor=false\"></script>\n",
    "            <div id=\"map-canvas\" style=\"height: 100%; width: 100%\"></div>\n",
    "            <script type=\"text/javascript\">\n",
    "                var map;\n",
    "                function show_map() {{\n",
    "                    map = new google.maps.Map(document.getElementById(\"map-canvas\"), {{\n",
    "                        zoom: 4,\n",
    "                        center: new google.maps.LatLng({centerLat}, {centerLon})\n",
    "                    }});\n",
    "                    {markersCode}\n",
    "                }}\n",
    "                google.maps.event.addDomListener(window, 'load', show_map);\n",
    "            </script>\n",
    "        \"\"\".format(centerLat=centerLat, centerLon=centerLon,\n",
    "                   markersCode=markersCode)"
   ]
  },
  {
   "cell_type": "code",
   "execution_count": 4,
   "metadata": {},
   "outputs": [
    {
     "data": {
      "text/plain": [
       "True"
      ]
     },
     "execution_count": 4,
     "metadata": {},
     "output_type": "execute_result"
    }
   ],
   "source": [
    "map = Map()\n",
    "\n",
    "filename = \"output.html\"\n",
    "\n",
    "for result in dat[\"location\"]:\n",
    "    map.add_point((result[0], result[1]))\n",
    "\n",
    "with open(filename, \"w\") as out:\n",
    "    print(map, file=out)\n",
    "\n",
    "webbrowser.open(filename)"
   ]
  },
  {
   "cell_type": "code",
   "execution_count": null,
   "metadata": {},
   "outputs": [],
   "source": []
  }
 ],
 "metadata": {
  "kernelspec": {
   "display_name": "Python 3",
   "language": "python",
   "name": "python3"
  },
  "language_info": {
   "codemirror_mode": {
    "name": "ipython",
    "version": 3
   },
   "file_extension": ".py",
   "mimetype": "text/x-python",
   "name": "python",
   "nbconvert_exporter": "python",
   "pygments_lexer": "ipython3",
   "version": "3.6.4"
  }
 },
 "nbformat": 4,
 "nbformat_minor": 2
}
